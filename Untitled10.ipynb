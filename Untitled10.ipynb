{
 "cells": [
  {
   "cell_type": "code",
   "execution_count": 1,
   "id": "60f0bd42-e99e-4a83-b96a-7a1af0c40e79",
   "metadata": {},
   "outputs": [],
   "source": [
    "import numpy as np\n",
    "import pandas as pd\n",
    "import matplotlib.pyplot as plt\n",
    "import h5py "
   ]
  },
  {
   "cell_type": "code",
   "execution_count": 2,
   "id": "c4dc3970-3edb-4d76-af45-a4703dab0925",
   "metadata": {},
   "outputs": [],
   "source": [
    "def zero_pad(X,pad):\n",
    "    X=np.pad(X,((0,0),(pad,pad),(pad,pad),(0,0)),mode='constant',constant_values=(0,0))\n",
    "    return X"
   ]
  },
  {
   "cell_type": "code",
   "execution_count": 3,
   "id": "e60e8c7b-0af3-416b-9e29-f399ed3891cd",
   "metadata": {},
   "outputs": [],
   "source": [
    "np.random.seed(1)\n",
    "X=np.random.randn(4,3,3,2)\n",
    "X_pad=zero_pad(X,3)"
   ]
  },
  {
   "cell_type": "code",
   "execution_count": 4,
   "id": "77e50a9a-ef2f-4878-b3a3-89a71ca4bbb6",
   "metadata": {},
   "outputs": [
    {
     "name": "stdout",
     "output_type": "stream",
     "text": [
      "(4, 3, 3, 2)\n"
     ]
    }
   ],
   "source": [
    "print(X.shape)"
   ]
  },
  {
   "cell_type": "code",
   "execution_count": 5,
   "id": "e3646a9d-3589-49f6-ab35-ed8d6cb030ec",
   "metadata": {},
   "outputs": [
    {
     "name": "stdout",
     "output_type": "stream",
     "text": [
      "(4, 9, 9, 2)\n"
     ]
    }
   ],
   "source": [
    "print(X_pad.shape)"
   ]
  },
  {
   "cell_type": "code",
   "execution_count": 6,
   "id": "a0d32e75-aa2a-439e-94ca-8f2a8e8b396a",
   "metadata": {},
   "outputs": [
    {
     "name": "stdout",
     "output_type": "stream",
     "text": [
      "[[[ 0.04221375  0.58281521]\n",
      "  [-1.10061918  1.14472371]\n",
      "  [ 0.90159072  0.50249434]]\n",
      "\n",
      " [[ 0.90085595 -0.68372786]\n",
      "  [-0.12289023 -0.93576943]\n",
      "  [-0.26788808  0.53035547]]\n",
      "\n",
      " [[-0.69166075 -0.39675353]\n",
      "  [-0.6871727  -0.84520564]\n",
      "  [-0.67124613 -0.0126646 ]]]\n"
     ]
    }
   ],
   "source": [
    "print(X[1])"
   ]
  },
  {
   "cell_type": "code",
   "execution_count": 7,
   "id": "ab502c51-338c-4a4c-885c-9d08448ecbf5",
   "metadata": {},
   "outputs": [
    {
     "name": "stdout",
     "output_type": "stream",
     "text": [
      "[[[[ 0.          0.        ]\n",
      "   [ 0.          0.        ]\n",
      "   [ 0.          0.        ]\n",
      "   [ 0.          0.        ]\n",
      "   [ 0.          0.        ]\n",
      "   [ 0.          0.        ]\n",
      "   [ 0.          0.        ]\n",
      "   [ 0.          0.        ]\n",
      "   [ 0.          0.        ]]\n",
      "\n",
      "  [[ 0.          0.        ]\n",
      "   [ 0.          0.        ]\n",
      "   [ 0.          0.        ]\n",
      "   [ 0.          0.        ]\n",
      "   [ 0.          0.        ]\n",
      "   [ 0.          0.        ]\n",
      "   [ 0.          0.        ]\n",
      "   [ 0.          0.        ]\n",
      "   [ 0.          0.        ]]\n",
      "\n",
      "  [[ 0.          0.        ]\n",
      "   [ 0.          0.        ]\n",
      "   [ 0.          0.        ]\n",
      "   [ 0.          0.        ]\n",
      "   [ 0.          0.        ]\n",
      "   [ 0.          0.        ]\n",
      "   [ 0.          0.        ]\n",
      "   [ 0.          0.        ]\n",
      "   [ 0.          0.        ]]\n",
      "\n",
      "  [[ 0.          0.        ]\n",
      "   [ 0.          0.        ]\n",
      "   [ 0.          0.        ]\n",
      "   [ 1.62434536 -0.61175641]\n",
      "   [-0.52817175 -1.07296862]\n",
      "   [ 0.86540763 -2.3015387 ]\n",
      "   [ 0.          0.        ]\n",
      "   [ 0.          0.        ]\n",
      "   [ 0.          0.        ]]\n",
      "\n",
      "  [[ 0.          0.        ]\n",
      "   [ 0.          0.        ]\n",
      "   [ 0.          0.        ]\n",
      "   [ 1.74481176 -0.7612069 ]\n",
      "   [ 0.3190391  -0.24937038]\n",
      "   [ 1.46210794 -2.06014071]\n",
      "   [ 0.          0.        ]\n",
      "   [ 0.          0.        ]\n",
      "   [ 0.          0.        ]]\n",
      "\n",
      "  [[ 0.          0.        ]\n",
      "   [ 0.          0.        ]\n",
      "   [ 0.          0.        ]\n",
      "   [-0.3224172  -0.38405435]\n",
      "   [ 1.13376944 -1.09989127]\n",
      "   [-0.17242821 -0.87785842]\n",
      "   [ 0.          0.        ]\n",
      "   [ 0.          0.        ]\n",
      "   [ 0.          0.        ]]\n",
      "\n",
      "  [[ 0.          0.        ]\n",
      "   [ 0.          0.        ]\n",
      "   [ 0.          0.        ]\n",
      "   [ 0.          0.        ]\n",
      "   [ 0.          0.        ]\n",
      "   [ 0.          0.        ]\n",
      "   [ 0.          0.        ]\n",
      "   [ 0.          0.        ]\n",
      "   [ 0.          0.        ]]\n",
      "\n",
      "  [[ 0.          0.        ]\n",
      "   [ 0.          0.        ]\n",
      "   [ 0.          0.        ]\n",
      "   [ 0.          0.        ]\n",
      "   [ 0.          0.        ]\n",
      "   [ 0.          0.        ]\n",
      "   [ 0.          0.        ]\n",
      "   [ 0.          0.        ]\n",
      "   [ 0.          0.        ]]\n",
      "\n",
      "  [[ 0.          0.        ]\n",
      "   [ 0.          0.        ]\n",
      "   [ 0.          0.        ]\n",
      "   [ 0.          0.        ]\n",
      "   [ 0.          0.        ]\n",
      "   [ 0.          0.        ]\n",
      "   [ 0.          0.        ]\n",
      "   [ 0.          0.        ]\n",
      "   [ 0.          0.        ]]]\n",
      "\n",
      "\n",
      " [[[ 0.          0.        ]\n",
      "   [ 0.          0.        ]\n",
      "   [ 0.          0.        ]\n",
      "   [ 0.          0.        ]\n",
      "   [ 0.          0.        ]\n",
      "   [ 0.          0.        ]\n",
      "   [ 0.          0.        ]\n",
      "   [ 0.          0.        ]\n",
      "   [ 0.          0.        ]]\n",
      "\n",
      "  [[ 0.          0.        ]\n",
      "   [ 0.          0.        ]\n",
      "   [ 0.          0.        ]\n",
      "   [ 0.          0.        ]\n",
      "   [ 0.          0.        ]\n",
      "   [ 0.          0.        ]\n",
      "   [ 0.          0.        ]\n",
      "   [ 0.          0.        ]\n",
      "   [ 0.          0.        ]]\n",
      "\n",
      "  [[ 0.          0.        ]\n",
      "   [ 0.          0.        ]\n",
      "   [ 0.          0.        ]\n",
      "   [ 0.          0.        ]\n",
      "   [ 0.          0.        ]\n",
      "   [ 0.          0.        ]\n",
      "   [ 0.          0.        ]\n",
      "   [ 0.          0.        ]\n",
      "   [ 0.          0.        ]]\n",
      "\n",
      "  [[ 0.          0.        ]\n",
      "   [ 0.          0.        ]\n",
      "   [ 0.          0.        ]\n",
      "   [ 0.04221375  0.58281521]\n",
      "   [-1.10061918  1.14472371]\n",
      "   [ 0.90159072  0.50249434]\n",
      "   [ 0.          0.        ]\n",
      "   [ 0.          0.        ]\n",
      "   [ 0.          0.        ]]\n",
      "\n",
      "  [[ 0.          0.        ]\n",
      "   [ 0.          0.        ]\n",
      "   [ 0.          0.        ]\n",
      "   [ 0.90085595 -0.68372786]\n",
      "   [-0.12289023 -0.93576943]\n",
      "   [-0.26788808  0.53035547]\n",
      "   [ 0.          0.        ]\n",
      "   [ 0.          0.        ]\n",
      "   [ 0.          0.        ]]\n",
      "\n",
      "  [[ 0.          0.        ]\n",
      "   [ 0.          0.        ]\n",
      "   [ 0.          0.        ]\n",
      "   [-0.69166075 -0.39675353]\n",
      "   [-0.6871727  -0.84520564]\n",
      "   [-0.67124613 -0.0126646 ]\n",
      "   [ 0.          0.        ]\n",
      "   [ 0.          0.        ]\n",
      "   [ 0.          0.        ]]\n",
      "\n",
      "  [[ 0.          0.        ]\n",
      "   [ 0.          0.        ]\n",
      "   [ 0.          0.        ]\n",
      "   [ 0.          0.        ]\n",
      "   [ 0.          0.        ]\n",
      "   [ 0.          0.        ]\n",
      "   [ 0.          0.        ]\n",
      "   [ 0.          0.        ]\n",
      "   [ 0.          0.        ]]\n",
      "\n",
      "  [[ 0.          0.        ]\n",
      "   [ 0.          0.        ]\n",
      "   [ 0.          0.        ]\n",
      "   [ 0.          0.        ]\n",
      "   [ 0.          0.        ]\n",
      "   [ 0.          0.        ]\n",
      "   [ 0.          0.        ]\n",
      "   [ 0.          0.        ]\n",
      "   [ 0.          0.        ]]\n",
      "\n",
      "  [[ 0.          0.        ]\n",
      "   [ 0.          0.        ]\n",
      "   [ 0.          0.        ]\n",
      "   [ 0.          0.        ]\n",
      "   [ 0.          0.        ]\n",
      "   [ 0.          0.        ]\n",
      "   [ 0.          0.        ]\n",
      "   [ 0.          0.        ]\n",
      "   [ 0.          0.        ]]]\n",
      "\n",
      "\n",
      " [[[ 0.          0.        ]\n",
      "   [ 0.          0.        ]\n",
      "   [ 0.          0.        ]\n",
      "   [ 0.          0.        ]\n",
      "   [ 0.          0.        ]\n",
      "   [ 0.          0.        ]\n",
      "   [ 0.          0.        ]\n",
      "   [ 0.          0.        ]\n",
      "   [ 0.          0.        ]]\n",
      "\n",
      "  [[ 0.          0.        ]\n",
      "   [ 0.          0.        ]\n",
      "   [ 0.          0.        ]\n",
      "   [ 0.          0.        ]\n",
      "   [ 0.          0.        ]\n",
      "   [ 0.          0.        ]\n",
      "   [ 0.          0.        ]\n",
      "   [ 0.          0.        ]\n",
      "   [ 0.          0.        ]]\n",
      "\n",
      "  [[ 0.          0.        ]\n",
      "   [ 0.          0.        ]\n",
      "   [ 0.          0.        ]\n",
      "   [ 0.          0.        ]\n",
      "   [ 0.          0.        ]\n",
      "   [ 0.          0.        ]\n",
      "   [ 0.          0.        ]\n",
      "   [ 0.          0.        ]\n",
      "   [ 0.          0.        ]]\n",
      "\n",
      "  [[ 0.          0.        ]\n",
      "   [ 0.          0.        ]\n",
      "   [ 0.          0.        ]\n",
      "   [-1.11731035  0.2344157 ]\n",
      "   [ 1.65980218  0.74204416]\n",
      "   [-0.19183555 -0.88762896]\n",
      "   [ 0.          0.        ]\n",
      "   [ 0.          0.        ]\n",
      "   [ 0.          0.        ]]\n",
      "\n",
      "  [[ 0.          0.        ]\n",
      "   [ 0.          0.        ]\n",
      "   [ 0.          0.        ]\n",
      "   [-0.74715829  1.6924546 ]\n",
      "   [ 0.05080775 -0.63699565]\n",
      "   [ 0.19091548  2.10025514]\n",
      "   [ 0.          0.        ]\n",
      "   [ 0.          0.        ]\n",
      "   [ 0.          0.        ]]\n",
      "\n",
      "  [[ 0.          0.        ]\n",
      "   [ 0.          0.        ]\n",
      "   [ 0.          0.        ]\n",
      "   [ 0.12015895  0.61720311]\n",
      "   [ 0.30017032 -0.35224985]\n",
      "   [-1.1425182  -0.34934272]\n",
      "   [ 0.          0.        ]\n",
      "   [ 0.          0.        ]\n",
      "   [ 0.          0.        ]]\n",
      "\n",
      "  [[ 0.          0.        ]\n",
      "   [ 0.          0.        ]\n",
      "   [ 0.          0.        ]\n",
      "   [ 0.          0.        ]\n",
      "   [ 0.          0.        ]\n",
      "   [ 0.          0.        ]\n",
      "   [ 0.          0.        ]\n",
      "   [ 0.          0.        ]\n",
      "   [ 0.          0.        ]]\n",
      "\n",
      "  [[ 0.          0.        ]\n",
      "   [ 0.          0.        ]\n",
      "   [ 0.          0.        ]\n",
      "   [ 0.          0.        ]\n",
      "   [ 0.          0.        ]\n",
      "   [ 0.          0.        ]\n",
      "   [ 0.          0.        ]\n",
      "   [ 0.          0.        ]\n",
      "   [ 0.          0.        ]]\n",
      "\n",
      "  [[ 0.          0.        ]\n",
      "   [ 0.          0.        ]\n",
      "   [ 0.          0.        ]\n",
      "   [ 0.          0.        ]\n",
      "   [ 0.          0.        ]\n",
      "   [ 0.          0.        ]\n",
      "   [ 0.          0.        ]\n",
      "   [ 0.          0.        ]\n",
      "   [ 0.          0.        ]]]\n",
      "\n",
      "\n",
      " [[[ 0.          0.        ]\n",
      "   [ 0.          0.        ]\n",
      "   [ 0.          0.        ]\n",
      "   [ 0.          0.        ]\n",
      "   [ 0.          0.        ]\n",
      "   [ 0.          0.        ]\n",
      "   [ 0.          0.        ]\n",
      "   [ 0.          0.        ]\n",
      "   [ 0.          0.        ]]\n",
      "\n",
      "  [[ 0.          0.        ]\n",
      "   [ 0.          0.        ]\n",
      "   [ 0.          0.        ]\n",
      "   [ 0.          0.        ]\n",
      "   [ 0.          0.        ]\n",
      "   [ 0.          0.        ]\n",
      "   [ 0.          0.        ]\n",
      "   [ 0.          0.        ]\n",
      "   [ 0.          0.        ]]\n",
      "\n",
      "  [[ 0.          0.        ]\n",
      "   [ 0.          0.        ]\n",
      "   [ 0.          0.        ]\n",
      "   [ 0.          0.        ]\n",
      "   [ 0.          0.        ]\n",
      "   [ 0.          0.        ]\n",
      "   [ 0.          0.        ]\n",
      "   [ 0.          0.        ]\n",
      "   [ 0.          0.        ]]\n",
      "\n",
      "  [[ 0.          0.        ]\n",
      "   [ 0.          0.        ]\n",
      "   [ 0.          0.        ]\n",
      "   [-0.20889423  0.58662319]\n",
      "   [ 0.83898341  0.93110208]\n",
      "   [ 0.28558733  0.88514116]\n",
      "   [ 0.          0.        ]\n",
      "   [ 0.          0.        ]\n",
      "   [ 0.          0.        ]]\n",
      "\n",
      "  [[ 0.          0.        ]\n",
      "   [ 0.          0.        ]\n",
      "   [ 0.          0.        ]\n",
      "   [-0.75439794  1.25286816]\n",
      "   [ 0.51292982 -0.29809284]\n",
      "   [ 0.48851815 -0.07557171]\n",
      "   [ 0.          0.        ]\n",
      "   [ 0.          0.        ]\n",
      "   [ 0.          0.        ]]\n",
      "\n",
      "  [[ 0.          0.        ]\n",
      "   [ 0.          0.        ]\n",
      "   [ 0.          0.        ]\n",
      "   [ 1.13162939  1.51981682]\n",
      "   [ 2.18557541 -1.39649634]\n",
      "   [-1.44411381 -0.50446586]\n",
      "   [ 0.          0.        ]\n",
      "   [ 0.          0.        ]\n",
      "   [ 0.          0.        ]]\n",
      "\n",
      "  [[ 0.          0.        ]\n",
      "   [ 0.          0.        ]\n",
      "   [ 0.          0.        ]\n",
      "   [ 0.          0.        ]\n",
      "   [ 0.          0.        ]\n",
      "   [ 0.          0.        ]\n",
      "   [ 0.          0.        ]\n",
      "   [ 0.          0.        ]\n",
      "   [ 0.          0.        ]]\n",
      "\n",
      "  [[ 0.          0.        ]\n",
      "   [ 0.          0.        ]\n",
      "   [ 0.          0.        ]\n",
      "   [ 0.          0.        ]\n",
      "   [ 0.          0.        ]\n",
      "   [ 0.          0.        ]\n",
      "   [ 0.          0.        ]\n",
      "   [ 0.          0.        ]\n",
      "   [ 0.          0.        ]]\n",
      "\n",
      "  [[ 0.          0.        ]\n",
      "   [ 0.          0.        ]\n",
      "   [ 0.          0.        ]\n",
      "   [ 0.          0.        ]\n",
      "   [ 0.          0.        ]\n",
      "   [ 0.          0.        ]\n",
      "   [ 0.          0.        ]\n",
      "   [ 0.          0.        ]\n",
      "   [ 0.          0.        ]]]]\n"
     ]
    }
   ],
   "source": [
    "print(X_pad)"
   ]
  },
  {
   "cell_type": "code",
   "execution_count": 8,
   "id": "fd4c2256-2b9f-4277-b9ad-a6737b5d0e89",
   "metadata": {},
   "outputs": [
    {
     "data": {
      "text/plain": [
       "<matplotlib.image.AxesImage at 0x237fb812d90>"
      ]
     },
     "execution_count": 8,
     "metadata": {},
     "output_type": "execute_result"
    },
    {
     "data": {
      "image/png": "[encoded data removed]",
      "text/plain": [
       "<Figure size 640x480 with 1 Axes>"
      ]
     },
     "metadata": {},
     "output_type": "display_data"
    }
   ],
   "source": [
    "plt.imshow(X_pad[0,:,:,0])"
   ]
  },
  {
   "cell_type": "code",
   "execution_count": 9,
   "id": "169318e1-c483-4d32-81bc-17d47fe5154d",
   "metadata": {},
   "outputs": [
    {
     "data": {
      "text/plain": [
       "<matplotlib.image.AxesImage at 0x237807f2d90>"
      ]
     },
     "execution_count": 9,
     "metadata": {},
     "output_type": "execute_result"
    },
    {
     "data": {
      "image/png": "[encoded data removed]",
      "text/plain": [
       "<Figure size 640x480 with 1 Axes>"
      ]
     },
     "metadata": {},
     "output_type": "display_data"
    }
   ],
   "source": [
    "plt.imshow(X[0,:,:,0])"
   ]
  },
  {
   "cell_type": "code",
   "execution_count": 10,
   "id": "a985e6ca-451a-4a77-b9d7-68ebb5df3d28",
   "metadata": {},
   "outputs": [
    {
     "data": {
      "image/png": "[encoded data removed]",
      "text/plain": [
       "<Figure size 640x480 with 2 Axes>"
      ]
     },
     "metadata": {},
     "output_type": "display_data"
    }
   ],
   "source": [
    "fig,ax=plt.subplots(1,2)\n",
    "ax[0].set_title(\"X\")\n",
    "ax[0].imshow(X[0,:,:,0])\n",
    "ax[1].set_title(\"X pad\")\n",
    "ax[1].imshow(X_pad[0,:,:,0])\n",
    "plt.show()"
   ]
  },
  {
   "cell_type": "code",
   "execution_count": 11,
   "id": "ee0184eb-f9f2-4297-a661-81cb276bafbb",
   "metadata": {},
   "outputs": [],
   "source": [
    "def conv_single_step(a_slice,W,b):\n",
    "    Z=np.multiply(a_slice,W)\n",
    "    a=np.sum(Z)\n",
    "    b=np.squeeze(b)\n",
    "    a=a+b\n",
    "    return a"
   ]
  },
  {
   "cell_type": "code",
   "execution_count": 12,
   "id": "699b81c1-e22a-4280-bce1-40381deb6b03",
   "metadata": {},
   "outputs": [],
   "source": [
    "np.random.seed(1)\n",
    "a_slice=np.random.randn(4,3,3)\n",
    "W=np.random.randn(4,3,3)\n",
    "b=np.random.randn(1,1,1)\n",
    "a=conv_single_step(a_slice,W,b)"
   ]
  },
  {
   "cell_type": "code",
   "execution_count": 13,
   "id": "7152c577-1b97-48de-9269-cf3b6c02e904",
   "metadata": {},
   "outputs": [
    {
     "name": "stderr",
     "output_type": "stream",
     "text": [
      "Clipping input data to the valid range for imshow with RGB data ([0..1] for floats or [0..255] for integers).\n",
      "Clipping input data to the valid range for imshow with RGB data ([0..1] for floats or [0..255] for integers).\n"
     ]
    },
    {
     "data": {
      "text/plain": [
       "<matplotlib.image.AxesImage at 0x23780eaff50>"
      ]
     },
     "execution_count": 13,
     "metadata": {},
     "output_type": "execute_result"
    },
    {
     "data": {
      "image/png": "[encoded data removed]",
      "text/plain": [
       "<Figure size 640x480 with 2 Axes>"
      ]
     },
     "metadata": {},
     "output_type": "display_data"
    }
   ],
   "source": [
    "fig,ax=plt.subplots(1,2)\n",
    "ax[0].imshow(a_slice)\n",
    "ax[1].imshow(W)\n"
   ]
  },
  {
   "cell_type": "code",
   "execution_count": 14,
   "id": "5a1dfabc-c9fc-498c-85ed-a0b514fc00f7",
   "metadata": {},
   "outputs": [],
   "source": [
    "def convolve(A_prev,W,B,hparameters):\n",
    "    stride=hparameters[\"stride\"]\n",
    "    pad=hparameters['pad']\n",
    "\n",
    "    m,n_h_prev,n_w_prev,n_c_prev=A_prev.shape\n",
    "    f,f,n_c_prev,n_c=W.shape\n",
    "\n",
    "    A_prev=zero_pad(A_prev,pad)\n",
    "    n_h=(n_h_prev-f+2*pad)//stride+1\n",
    "    n_w=(n_w_prev-f+2*pad)//stride+1\n",
    "    \n",
    "    Z_out=np.zeros((m,n_h,n_w,n_c))\n",
    "    for i in range(m):\n",
    "        a_prev=A_prev[i]\n",
    "        for j in range(n_h):\n",
    "            ver_st=j*stride\n",
    "            ver_en=ver_st+f\n",
    "            for k in range(n_w):\n",
    "                hor_st=k*stride\n",
    "                hor_en=hor_st+f\n",
    "                for l in range (n_c):\n",
    "                    a_prev_slice=a_prev[ver_st:ver_en,hor_st:hor_en,:]\n",
    "                    w=W[: ,:,:,l]\n",
    "                    b=B[:,:,:,l]\n",
    "                    a=conv_single_step(a_prev_slice,w,b)\n",
    "                    Z_out[i,j,k,l]=a\n",
    "    cache=(A_prev,W,B,hparameters)\n",
    "    return Z_out,cache"
   ]
  },
  {
   "cell_type": "code",
   "execution_count": 15,
   "id": "237739b3-9cf8-4904-8f30-ae1647b00356",
   "metadata": {},
   "outputs": [],
   "source": [
    "A_prev=np.random.randn(5,32,32,3)\n",
    "W=np.random.randn(3,3,3,8)\n",
    "hparameters={\"pad\":1,\"stride\":2}\n",
    "b=np.random.randn(1,1,1,8)\n",
    "Z_out,cache=convolve(A_prev,W,b,hparameters)"
   ]
  },
  {
   "cell_type": "code",
   "execution_count": 16,
   "id": "b9f287ed-936f-48cc-8ea3-cb66939f4805",
   "metadata": {},
   "outputs": [
    {
     "ename": "NameError",
     "evalue": "name 'A_out' is not defined",
     "output_type": "error",
     "traceback": [
      "\u001b[1;31m---------------------------------------------------------------------------\u001b[0m",
      "\u001b[1;31mNameError\u001b[0m                                 Traceback (most recent call last)",
      "Cell \u001b[1;32mIn[16], line 1\u001b[0m\n\u001b[1;32m----> 1\u001b[0m \u001b[38;5;28mprint\u001b[39m(A_out)\n",
      "\u001b[1;31mNameError\u001b[0m: name 'A_out' is not defined"
     ]
    }
   ],
   "source": [
    "print(A_out)"
   ]
  },
  {
   "cell_type": "code",
   "execution_count": null,
   "id": "42d5f05d-9e02-4998-bd45-acd2bea70c5a",
   "metadata": {},
   "outputs": [],
   "source": [
    "plt.imshow(Z_out[0,:,:,4])"
   ]
  },
  {
   "cell_type": "code",
   "execution_count": 17,
   "id": "5f12bf8a-01ea-4f0e-ba13-29999a82adc1",
   "metadata": {},
   "outputs": [],
   "source": [
    "def pooling(A_prev,hparameters,mode=\"max\"):\n",
    "    stride=hparameters[\"stride\"]\n",
    "    f=hparameters[\"f\"]\n",
    "    m,n_h_prev,n_w_prev,n_c=A_prev.shape\n",
    "    n_h=(n_h_prev-f)//stride+1\n",
    "    n_w=(n_w_prev-f)//stride+1\n",
    "\n",
    "    Z=np.zeros((m,n_h,n_w,n_c))\n",
    "    for i in range(m):\n",
    "        a_prev=A_prev[i]\n",
    "        for j in range(n_h):\n",
    "            ver_st=j*stride\n",
    "            ver_en=ver_st+f\n",
    "            for k in range(n_w):\n",
    "                hor_st=k*stride\n",
    "                hor_en=hor_st+f\n",
    "                for l in range(n_c):\n",
    "                    a_prev_slice=a_prev[ver_st:ver_en,hor_st:hor_en,l]\n",
    "                    if(mode=='max'):\n",
    "                        Z[i,j,k,l]=np.max(a_prev_slice)\n",
    "                    elif (mode=='average'):\n",
    "                        Z[i,j,k,l]=np.mean(a_prev_slice)\n",
    "                    \n",
    "    cache=(A_prev,hparameters,mode)\n",
    "    return Z,cache"
   ]
  },
  {
   "cell_type": "code",
   "execution_count": 18,
   "id": "0c22edc2-3df8-4039-a7ff-271f82d2e09f",
   "metadata": {},
   "outputs": [],
   "source": [
    "A_prev=np.random.randn(5,32,32,8)\n",
    "hparameters={\"stride\":1,\"f\":3}\n",
    "Z,cache=pooling(A_prev,hparameters,mode=\"average\")"
   ]
  },
  {
   "cell_type": "code",
   "execution_count": 19,
   "id": "bb9799a2-ed67-45b0-898d-386e9fcda7cf",
   "metadata": {},
   "outputs": [
    {
     "name": "stdout",
     "output_type": "stream",
     "text": [
      "(5, 30, 30, 8)\n"
     ]
    }
   ],
   "source": [
    "print(Z.shape)"
   ]
  },
  {
   "cell_type": "code",
   "execution_count": 20,
   "id": "891e590d-8646-44eb-8713-ec675faf4bbe",
   "metadata": {},
   "outputs": [
    {
     "data": {
      "text/plain": [
       "<matplotlib.image.AxesImage at 0x23780e67790>"
      ]
     },
     "execution_count": 20,
     "metadata": {},
     "output_type": "execute_result"
    },
    {
     "data": {
      "image/png": "[encoded data removed]",
      "text/plain": [
       "<Figure size 640x480 with 1 Axes>"
      ]
     },
     "metadata": {},
     "output_type": "display_data"
    }
   ],
   "source": [
    "plt.imshow(Z[0,:,:,0])"
   ]
  },
  {
   "cell_type": "code",
   "execution_count": 22,
   "id": "8ff41d42-1fa3-442c-bb42-e22674d94a22",
   "metadata": {},
   "outputs": [],
   "source": [
    "def conv_backward(dZ,cache):\n",
    "    (A_prev,W,b,hparameters)=cache\n",
    "    m,n_h_prev,n_w_prev,n_c_prev=A_prev.shape\n",
    "    f,f,n_c_prev,n_c=W.shape\n",
    "\n",
    "    stride=hparameters['stride']\n",
    "    pad=hparameters['pad']\n",
    "\n",
    "    m,n_h,n_w,n_c=dZ.shape\n",
    "    dA_prev=np.zeros(A_prev.shape)\n",
    "    dW=np.zeros(W.shape)\n",
    "    db=np.zeros(b.shape)\n",
    "    A_prev_pad=zero_pad(A_prev,pad)\n",
    "    dA_prev_pad=zero_pad(dA_prev,pad)\n",
    "\n",
    "    for i in range(m):\n",
    "        a_prev_pad=A_prev_pad[i]\n",
    "        da_prev_pad=dA_prev_pad[i]\n",
    "        for j in range (n_h):\n",
    "            ver_st=stride*j\n",
    "            ver_en=ver_st+f\n",
    "            for k in range(n_w):\n",
    "                hor_st=stride*k\n",
    "                hor_en=hor_st+f\n",
    "                for c in range(n_c):\n",
    "                    a_slice=a_prev_pad[ver_st:ver_en,hor_st:hor_en,:]\n",
    "                    da_prev_pad[ver_st:ver_en,hor_st:hor_en,:]+=W[:,:,:,c]*dZ[i,j,k,c]\n",
    "                    dW[:,:,:,c]+=a_slice*dZ[i,j,k,c]\n",
    "                    db[:,:,:,c]+=dZ[i,j,k,c]\n",
    "        dA_prev[i,:,:,:]=da_prev_pad[pad:-pad,pad:-pad,:]\n",
    "    return dA_prev,dW,db"
   ]
  },
  {
   "cell_type": "code",
   "execution_count": 24,
   "id": "0fdf16bb-4f6a-4350-8426-ae296739d473",
   "metadata": {},
   "outputs": [],
   "source": [
    "np.random.seed(1)\n",
    "A_prev=np.random.randn(10,32,32,3)\n",
    "W=np.random.randn(3,3,3,16)\n",
    "b=np.random.randn(1,1,1,16)\n",
    "hparameters={\"pad\":2,\"stride\":2}\n",
    "Z,cache=convolve(A_prev,W,b,hparameters)"
   ]
  },
  {
   "cell_type": "code",
   "execution_count": 25,
   "id": "2c4a6648-9021-463b-beed-0f34ac350f5f",
   "metadata": {},
   "outputs": [],
   "source": [
    "dA,dW,db=conv_backward(Z,cache)"
   ]
  },
  {
   "cell_type": "code",
   "execution_count": 26,
   "id": "d9785836-062e-4831-8b02-403f0aa3b5c1",
   "metadata": {},
   "outputs": [
    {
     "name": "stdout",
     "output_type": "stream",
     "text": [
      "(10, 36, 36, 3)\n"
     ]
    }
   ],
   "source": [
    "print(dA.shape)"
   ]
  },
  {
   "cell_type": "code",
   "execution_count": 27,
   "id": "12969a33-57ee-47b7-a33b-9bc8ca781590",
   "metadata": {},
   "outputs": [
    {
     "name": "stdout",
     "output_type": "stream",
     "text": [
      "(3, 3, 3, 16)\n"
     ]
    }
   ],
   "source": [
    "print(dW.shape)"
   ]
  },
  {
   "cell_type": "code",
   "execution_count": 29,
   "id": "27d8252a-e950-4e87-90e5-36ddc1575615",
   "metadata": {},
   "outputs": [
    {
     "name": "stdout",
     "output_type": "stream",
     "text": [
      "(1, 1, 1, 16)\n"
     ]
    }
   ],
   "source": [
    "print(db.shape)"
   ]
  },
  {
   "cell_type": "code",
   "execution_count": 31,
   "id": "1bd1904b-10d2-4c52-87b8-0f95781e0984",
   "metadata": {},
   "outputs": [],
   "source": [
    "def create_mask_from_window(x):\n",
    "    A=(x==np.max(x))\n",
    "    return A"
   ]
  },
  {
   "cell_type": "code",
   "execution_count": 32,
   "id": "6a729f61-4d99-4099-ad1f-060720b97c77",
   "metadata": {},
   "outputs": [],
   "source": [
    "X=np.random.randn(2,3)\n",
    "mask=create_mask_from_window(X)"
   ]
  },
  {
   "cell_type": "code",
   "execution_count": 33,
   "id": "2839bada-5c6e-4840-a23d-ca016462b9c9",
   "metadata": {},
   "outputs": [
    {
     "name": "stdout",
     "output_type": "stream",
     "text": [
      "[[ True False False]\n",
      " [False False False]]\n"
     ]
    }
   ],
   "source": [
    "print(mask)"
   ]
  },
  {
   "cell_type": "code",
   "execution_count": 34,
   "id": "80ea17a4-5565-40e1-bb75-f6e26bb2d54e",
   "metadata": {},
   "outputs": [
    {
     "name": "stdout",
     "output_type": "stream",
     "text": [
      "[[ 1.33443138  0.57000493  1.0262975 ]\n",
      " [ 0.36682493 -1.08834777 -1.01209021]]\n"
     ]
    }
   ],
   "source": [
    "print(X)"
   ]
  },
  {
   "cell_type": "code",
   "execution_count": 39,
   "id": "44db93f8-21fb-4f12-9e31-716263bd08cf",
   "metadata": {},
   "outputs": [],
   "source": [
    "def distributed_value(dZ,shape):\n",
    "    n_h,n_w=shape\n",
    "    average=np.prod(shape)\n",
    "    a=dZ/average*np.ones(shape)\n",
    "    return a"
   ]
  },
  {
   "cell_type": "code",
   "execution_count": 40,
   "id": "83c0e238-e5b3-4eb4-8067-4a3e527fed06",
   "metadata": {},
   "outputs": [],
   "source": [
    "a=distributed_value(2,(2,2))"
   ]
  },
  {
   "cell_type": "code",
   "execution_count": 41,
   "id": "8f82be99-f2db-420c-a183-d040c136fa33",
   "metadata": {},
   "outputs": [
    {
     "name": "stdout",
     "output_type": "stream",
     "text": [
      "[[0.5 0.5]\n",
      " [0.5 0.5]]\n"
     ]
    }
   ],
   "source": [
    "print(a)"
   ]
  },
  {
   "cell_type": "code",
   "execution_count": 59,
   "id": "d28661ae-fe1e-4392-9813-d69f40bc9e9d",
   "metadata": {},
   "outputs": [],
   "source": [
    "def pool_backward(dA,cache,mode='max'):\n",
    "    A_prev,hparameters,mode=cache\n",
    "    m,n_h_prev,n_w_prev,n_c_prev=A_prev.shape\n",
    "    stride=hparameters[\"stride\"]\n",
    "    f=hparameters[\"f\"]\n",
    "    m,n_h,n_w,n_c=dA.shape\n",
    "\n",
    "    dA_prev=np.zeros(A_prev.shape)\n",
    "    for i in range(m):\n",
    "        a_prev=A_prev[i]\n",
    "        for j in range(n_h):\n",
    "            ver_st=j*stride\n",
    "            ver_en=ver_st+f\n",
    "            for k in range(n_w):\n",
    "                hor_st=k*stride\n",
    "                hor_en=hor_st+f\n",
    "                for c in range(n_c):\n",
    "                    if(mode=='max'):\n",
    "                        a_prev_slice=a_prev[ver_st:ver_en,hor_st:hor_en,c]\n",
    "                        mask=create_mask_from_window(a_prev_slice)\n",
    "                        dA_prev[i,ver_st:ver_en,hor_st:hor_en,c]+=mask*dA[i,j,k,c]\n",
    "                    if(mode=='average'):\n",
    "                        da=dA[i,j,k,c]\n",
    "                        shape=(f,f)\n",
    "                        dA_prev[i,ver_st:ver_en,hor_st:hor_en,c]+=distribute_value(da,shape)\n",
    "    return dA_prev"
   ]
  },
  {
   "cell_type": "code",
   "execution_count": 60,
   "id": "214a2522-24b1-4663-815b-a60a222a90a8",
   "metadata": {},
   "outputs": [],
   "source": [
    "A_prev=np.random.randn(5,28,28,3)\n",
    "hparameter={\"stride\":2,\"f\":2}\n",
    "A,cache=pooling(A_prev,hparameter)\n"
   ]
  },
  {
   "cell_type": "code",
   "execution_count": 61,
   "id": "8feaa0d4-8ed9-49bf-8d5c-a4575afb9827",
   "metadata": {},
   "outputs": [
    {
     "name": "stdout",
     "output_type": "stream",
     "text": [
      "(5, 14, 14, 3)\n"
     ]
    }
   ],
   "source": [
    "print(A.shape)"
   ]
  },
  {
   "cell_type": "code",
   "execution_count": 62,
   "id": "0f563cd5-1f47-439a-b662-1d6479577f95",
   "metadata": {},
   "outputs": [],
   "source": [
    "dA=np.random.randn(5,14,14,3)\n",
    "dA_prev=pool_backward(dA,cache,mode='max')"
   ]
  },
  {
   "cell_type": "code",
   "execution_count": 63,
   "id": "8a61b355-f431-42df-a637-c29dbfbfc759",
   "metadata": {},
   "outputs": [
    {
     "name": "stdout",
     "output_type": "stream",
     "text": [
      "(5, 28, 28, 3)\n"
     ]
    }
   ],
   "source": [
    "print(dA_prev.shape)"
   ]
  },
  {
   "cell_type": "code",
   "execution_count": null,
   "id": "4d25a2f9-7eab-4a6e-a7e6-acc141880d6b",
   "metadata": {},
   "outputs": [],
   "source": []
  }
 ],
 "metadata": {
  "kernelspec": {
   "display_name": "Python 3 (ipykernel)",
   "language": "python",
   "name": "python3"
  },
  "language_info": {
   "codemirror_mode": {
    "name": "ipython",
    "version": 3
   },
   "file_extension": ".py",
   "mimetype": "text/x-python",
   "name": "python",
   "nbconvert_exporter": "python",
   "pygments_lexer": "ipython3",
   "version": "3.11.7"
  }
 },
 "nbformat": 4,
 "nbformat_minor": 5
}
